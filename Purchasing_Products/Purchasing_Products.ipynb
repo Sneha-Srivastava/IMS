{
  "nbformat": 4,
  "nbformat_minor": 0,
  "metadata": {
    "colab": {
      "name": "Copy of Purchasing_Products.ipynb",
      "provenance": [],
      "collapsed_sections": [],
      "include_colab_link": true
    },
    "kernelspec": {
      "name": "python3",
      "display_name": "Python 3"
    },
    "language_info": {
      "name": "python"
    }
  },
  "cells": [
    {
      "cell_type": "markdown",
      "metadata": {
        "id": "view-in-github",
        "colab_type": "text"
      },
      "source": [
        "<a href=\"https://colab.research.google.com/github/Sneha-Srivastava/IMS/blob/main/Purchasing_Products/Purchasing_Products.ipynb\" target=\"_parent\"><img src=\"https://colab.research.google.com/assets/colab-badge.svg\" alt=\"Open In Colab\"/></a>"
      ]
    },
    {
      "cell_type": "code",
      "metadata": {
        "id": "IOXO8EtW2DpP"
      },
      "source": [
        "fd = open('/content/records.json','r')\n",
        "record = fd.read()\n",
        "fd.close()"
      ],
      "execution_count": null,
      "outputs": []
    },
    {
      "cell_type": "code",
      "metadata": {
        "colab": {
          "base_uri": "https://localhost:8080/"
        },
        "id": "d8SkHmQl2DmN",
        "outputId": "7dd890d0-8187-4337-fd31-2a781b4c8ad7"
      },
      "source": [
        "import json\n",
        "record = json.loads(record)\n",
        "record"
      ],
      "execution_count": null,
      "outputs": [
        {
          "output_type": "execute_result",
          "data": {
            "text/plain": [
              "{'1001': {'name': 'Choco Cake', 'pr': 100, 'qn': 34},\n",
              " '1002': {'name': 'Milk Cake', 'pr': 800, 'qn': 100}}"
            ]
          },
          "metadata": {},
          "execution_count": 33
        }
      ]
    },
    {
      "cell_type": "markdown",
      "metadata": {
        "id": "c5mWcIu-2ftV"
      },
      "source": [
        "# Purchasing New Items"
      ]
    },
    {
      "cell_type": "code",
      "metadata": {
        "colab": {
          "base_uri": "https://localhost:8080/"
        },
        "id": "FrDZLuFv2Dje",
        "outputId": "c9f6f5a4-c9c5-4917-ae16-e4fe8cfc9208"
      },
      "source": [
        "while True:\n",
        "  prod_id = input(\"Enter product id : \")\n",
        "  name = input(\"Enter name of the product : \")\n",
        "  price = int(input(\"Enter price of product : \"))\n",
        "  quantity = int(input(\"Enter quantity you want to purchase : \"))\n",
        "  record[prod_id] = {'name': name, 'pr': price, 'qn': quantity}\n",
        "  add_mode = input(\"Do you want to purchase more items (y/n) : \")\n",
        "  if add_mode == 'N' or add_mode == 'n':\n",
        "    break"
      ],
      "execution_count": null,
      "outputs": [
        {
          "name": "stdout",
          "output_type": "stream",
          "text": [
            "Enter product id : 1032\n",
            "Enter name of the product : Jaggery\n",
            "Enter price of product : 68\n",
            "Enter quantity you want to purchase : 69\n",
            "Do you want to purchase more items (y/n) : n\n"
          ]
        }
      ]
    },
    {
      "cell_type": "code",
      "metadata": {
        "colab": {
          "base_uri": "https://localhost:8080/"
        },
        "id": "N-AMqxXY2Dgo",
        "outputId": "60cac645-ba9a-4b85-876c-a6d0e2c5a8c3"
      },
      "source": [
        "record"
      ],
      "execution_count": null,
      "outputs": [
        {
          "output_type": "execute_result",
          "data": {
            "text/plain": [
              "{'1001': {'name': 'Choco Cake', 'pr': 100, 'qn': 34},\n",
              " '1002': {'name': 'Milk Cake', 'pr': 800, 'qn': 100},\n",
              " '1003': {'name': 'Chocolate', 'pr': 50, 'qn': 100},\n",
              " '1004': {'name': 'Chips', 'pr': 10, 'qn': 150},\n",
              " '1005': {'name': 'Biscuits', 'pr': 75, 'qn': 80},\n",
              " '1006': {'name': 'Pepsi', 'pr': 90, 'qn': 200},\n",
              " '1007': {'name': 'Mirinda', 'pr': 75, 'qn': 89},\n",
              " '1008': {'name': 'Fanta', 'pr': 80, 'qn': 100},\n",
              " '1009': {'name': '7-Up', 'pr': 90, 'qn': 75},\n",
              " '1010': {'name': 'Lays', 'pr': 20, 'qn': 300},\n",
              " '1011': {'name': 'Bingo', 'pr': 20, 'qn': 200},\n",
              " '1012': {'name': 'Bread', 'pr': 26, 'qn': 300},\n",
              " '1013': {'name': 'Milk', 'pr': 26, 'qn': 100},\n",
              " '1014': {'name': 'Eggs', 'pr': 70, 'qn': 70},\n",
              " '1015': {'name': 'Cheese', 'pr': 110, 'qn': 70},\n",
              " '1016': {'name': 'Paneer', 'pr': 400, 'qn': 1000},\n",
              " '1017': {'name': 'Jam', 'pr': 215, 'qn': 215},\n",
              " '1018': {'name': 'Ketchup', 'pr': 180, 'qn': 70},\n",
              " '1019': {'name': 'Salt', 'pr': 50, 'qn': 70},\n",
              " '1020': {'name': 'Sugar', 'pr': 40, 'qn': 100},\n",
              " '1021': {'name': 'Flour', 'pr': 210, 'qn': 78},\n",
              " '1022': {'name': 'Wheat', 'pr': 123, 'qn': 232},\n",
              " '1023': {'name': 'Rice', 'pr': 78, 'qn': 98},\n",
              " '1024': {'name': 'Kellogs Chocos', 'pr': 340, 'qn': 222},\n",
              " '1025': {'name': 'Soda', 'pr': 40, 'qn': 65},\n",
              " '1026': {'name': 'Butter', 'pr': 218, 'qn': 218},\n",
              " '1027': {'name': 'Maggi', 'pr': 65, 'qn': 88},\n",
              " '1028': {'name': 'Pasta', 'pr': 56, 'qn': 78},\n",
              " '1029': {'name': 'Coffee', 'pr': 10, 'qn': 1000},\n",
              " '1030': {'name': 'Tea', 'pr': 89, 'qn': 99},\n",
              " '1031': {'name': 'Green tea', 'pr': 2, 'qn': 70},\n",
              " '1032': {'name': 'Jaggery', 'pr': 68, 'qn': 69}}"
            ]
          },
          "metadata": {},
          "execution_count": 30
        }
      ]
    },
    {
      "cell_type": "code",
      "metadata": {
        "id": "joti0ZKe2DeP"
      },
      "source": [
        "j = json.dumps(record)\n",
        "fd = open('/content/updated_records.json','w')\n",
        "fd.write(j)\n",
        "fd.close()"
      ],
      "execution_count": null,
      "outputs": []
    }
  ]
}