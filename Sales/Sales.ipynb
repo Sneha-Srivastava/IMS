{
  "nbformat": 4,
  "nbformat_minor": 0,
  "metadata": {
    "colab": {
      "name": "Copy of Sales.ipynb",
      "provenance": [],
      "collapsed_sections": [],
      "include_colab_link": true
    },
    "kernelspec": {
      "name": "python3",
      "display_name": "Python 3"
    },
    "language_info": {
      "name": "python"
    }
  },
  "cells": [
    {
      "cell_type": "markdown",
      "metadata": {
        "id": "view-in-github",
        "colab_type": "text"
      },
      "source": [
        "<a href=\"https://colab.research.google.com/github/Sneha-Srivastava/IMS/blob/main/Sales/Sales.ipynb\" target=\"_parent\"><img src=\"https://colab.research.google.com/assets/colab-badge.svg\" alt=\"Open In Colab\"/></a>"
      ]
    },
    {
      "cell_type": "code",
      "metadata": {
        "id": "796Hh3vS_rZw"
      },
      "source": [
        "fd = open('/content/updated_records.json','r')\n",
        "record = fd.read()\n",
        "fd.close()"
      ],
      "execution_count": null,
      "outputs": []
    },
    {
      "cell_type": "code",
      "metadata": {
        "colab": {
          "base_uri": "https://localhost:8080/",
          "height": 239
        },
        "id": "z6oQ90hd_rW6",
        "outputId": "19e6c745-ad36-46ce-f7d0-1bff2838178f"
      },
      "source": [
        "record"
      ],
      "execution_count": null,
      "outputs": [
        {
          "output_type": "execute_result",
          "data": {
            "application/vnd.google.colaboratory.intrinsic+json": {
              "type": "string"
            },
            "text/plain": [
              "'{\"1001\": {\"name\": \"Choco Cake\", \"qn\": 34, \"pr\": 100}, \"1002\": {\"name\": \"Milk Cake\", \"pr\": 800, \"qn\": 100}, \"1003\": {\"name\": \"Chocolate\", \"pr\": 50, \"qn\": 100}, \"1004\": {\"name\": \"Chips\", \"pr\": 10, \"qn\": 150}, \"1005\": {\"name\": \"Biscuits\", \"pr\": 75, \"qn\": 80}, \"1006\": {\"name\": \"Pepsi\", \"pr\": 90, \"qn\": 200}, \"1007\": {\"name\": \"Mirinda\", \"pr\": 75, \"qn\": 89}, \"1008\": {\"name\": \"Fanta\", \"pr\": 80, \"qn\": 100}, \"1009\": {\"name\": \"7-Up\", \"pr\": 90, \"qn\": 75}, \"1010\": {\"name\": \"Lays\", \"pr\": 20, \"qn\": 300}, \"1011\": {\"name\": \"Bingo\", \"pr\": 20, \"qn\": 200}, \"1012\": {\"name\": \"Bread\", \"pr\": 26, \"qn\": 300}, \"1013\": {\"name\": \"Milk\", \"pr\": 26, \"qn\": 100}, \"1014\": {\"name\": \"Eggs\", \"pr\": 70, \"qn\": 70}, \"1015\": {\"name\": \"Cheese\", \"pr\": 110, \"qn\": 70}, \"1016\": {\"name\": \"Paneer\", \"pr\": 400, \"qn\": 1000}, \"1017\": {\"name\": \"Jam\", \"pr\": 215, \"qn\": 215}, \"1018\": {\"name\": \"Ketchup\", \"pr\": 180, \"qn\": 70}, \"1019\": {\"name\": \"Salt\", \"pr\": 50, \"qn\": 70}, \"1020\": {\"name\": \"Sugar\", \"pr\": 40, \"qn\": 100}, \"1021\": {\"name\": \"Flour\", \"pr\": 210, \"qn\": 78}, \"1022\": {\"name\": \"Wheat\", \"pr\": 123, \"qn\": 232}, \"1023\": {\"name\": \"Rice\", \"pr\": 78, \"qn\": 98}, \"1024\": {\"name\": \"Kellogs Chocos\", \"pr\": 340, \"qn\": 222}, \"1025\": {\"name\": \"Soda\", \"pr\": 40, \"qn\": 65}, \"1026\": {\"name\": \"Butter\", \"pr\": 218, \"qn\": 218}, \"1027\": {\"name\": \"Maggi\", \"pr\": 65, \"qn\": 88}, \"1028\": {\"name\": \"Pasta\", \"pr\": 56, \"qn\": 78}, \"1029\": {\"name\": \"Coffee\", \"pr\": 10, \"qn\": 1000}, \"1030\": {\"name\": \"Tea\", \"pr\": 89, \"qn\": 99}, \"1031\": {\"name\": \"Green tea\", \"pr\": 2, \"qn\": 70}}'"
            ]
          },
          "metadata": {},
          "execution_count": 2
        }
      ]
    },
    {
      "cell_type": "code",
      "metadata": {
        "id": "uc7hbC-lAFvp"
      },
      "source": [
        "import json\n",
        "inventory = json.loads(record)"
      ],
      "execution_count": null,
      "outputs": []
    },
    {
      "cell_type": "code",
      "metadata": {
        "colab": {
          "base_uri": "https://localhost:8080/"
        },
        "id": "RdqiQMm1AFtk",
        "outputId": "12cb5c37-e246-44d2-af51-acae28f71136"
      },
      "source": [
        "inventory"
      ],
      "execution_count": null,
      "outputs": [
        {
          "output_type": "execute_result",
          "data": {
            "text/plain": [
              "{'1001': {'name': 'Choco Cake', 'pr': 100, 'qn': 34},\n",
              " '1002': {'name': 'Milk Cake', 'pr': 800, 'qn': 100},\n",
              " '1003': {'name': 'Chocolate', 'pr': 50, 'qn': 100},\n",
              " '1004': {'name': 'Chips', 'pr': 10, 'qn': 150},\n",
              " '1005': {'name': 'Biscuits', 'pr': 75, 'qn': 80},\n",
              " '1006': {'name': 'Pepsi', 'pr': 90, 'qn': 200},\n",
              " '1007': {'name': 'Mirinda', 'pr': 75, 'qn': 89},\n",
              " '1008': {'name': 'Fanta', 'pr': 80, 'qn': 100},\n",
              " '1009': {'name': '7-Up', 'pr': 90, 'qn': 75},\n",
              " '1010': {'name': 'Lays', 'pr': 20, 'qn': 300},\n",
              " '1011': {'name': 'Bingo', 'pr': 20, 'qn': 200},\n",
              " '1012': {'name': 'Bread', 'pr': 26, 'qn': 300},\n",
              " '1013': {'name': 'Milk', 'pr': 26, 'qn': 100},\n",
              " '1014': {'name': 'Eggs', 'pr': 70, 'qn': 70},\n",
              " '1015': {'name': 'Cheese', 'pr': 110, 'qn': 70},\n",
              " '1016': {'name': 'Paneer', 'pr': 400, 'qn': 1000},\n",
              " '1017': {'name': 'Jam', 'pr': 215, 'qn': 215},\n",
              " '1018': {'name': 'Ketchup', 'pr': 180, 'qn': 70},\n",
              " '1019': {'name': 'Salt', 'pr': 50, 'qn': 70},\n",
              " '1020': {'name': 'Sugar', 'pr': 40, 'qn': 100},\n",
              " '1021': {'name': 'Flour', 'pr': 210, 'qn': 78},\n",
              " '1022': {'name': 'Wheat', 'pr': 123, 'qn': 232},\n",
              " '1023': {'name': 'Rice', 'pr': 78, 'qn': 98},\n",
              " '1024': {'name': 'Kellogs Chocos', 'pr': 340, 'qn': 222},\n",
              " '1025': {'name': 'Soda', 'pr': 40, 'qn': 65},\n",
              " '1026': {'name': 'Butter', 'pr': 218, 'qn': 218},\n",
              " '1027': {'name': 'Maggi', 'pr': 65, 'qn': 88},\n",
              " '1028': {'name': 'Pasta', 'pr': 56, 'qn': 78},\n",
              " '1029': {'name': 'Coffee', 'pr': 10, 'qn': 1000},\n",
              " '1030': {'name': 'Tea', 'pr': 89, 'qn': 99},\n",
              " '1031': {'name': 'Green tea', 'pr': 2, 'qn': 70}}"
            ]
          },
          "metadata": {},
          "execution_count": 4
        }
      ]
    },
    {
      "cell_type": "code",
      "metadata": {
        "colab": {
          "base_uri": "https://localhost:8080/"
        },
        "id": "xTknabwr_eJa",
        "outputId": "6ea8d13d-5ad9-4260-f467-a2995861f709"
      },
      "source": [
        "import time\n",
        "quan = []\n",
        "items = []\n",
        "bill = []\n",
        "def sale(user_input):\n",
        "  for i in inventory:\n",
        "      if i==user_input:\n",
        "        quantity = int(input(\"Enter quantity for the same : \"))\n",
        "        quan.append(quantity)\n",
        "        inventory[i][\"qn\"] -= quantity\n",
        "        items.append(inventory[i][\"name\"])\n",
        "        bill.append(inventory[i][\"pr\"]*quantity)\n",
        "        # inventory[user_input][]\n",
        "        return inventory[i][\"name\"]\n",
        "  return \"Product Out of Stock\"\n",
        "  \n",
        "\n",
        "\n",
        "def daily_sale(quan,items,bill):\n",
        "  new_dict = {}\n",
        "  t = time.localtime()\n",
        "  current_time = time.strftime(\"%A, %Y-%m-%d %H:%M:%S\", t)\n",
        "  for i in range(len(items)):\n",
        "    new_dict[str(i+1)] = {current_time : {'Name' : items[i] , 'Quantity' : quan[i], 'Amount' : bill[i]}}\n",
        "  df = open('sales.json','a')\n",
        "  df.write(str(new_dict))\n",
        "  df.close()\n",
        "\n",
        "\n",
        "\n",
        "print(\"*\"*15+\"WELCOME\"+\"*\"*15)  \n",
        "user_input = input(\"Enter Product ID : \")\n",
        "print(sale(user_input))\n",
        "while True:\n",
        "  user_input2 = input(\"Do you want to buy something else enter y/n : \")\n",
        "  if user_input2 == 'Y' or user_input2 == 'y':\n",
        "    user_input = input(\"Enter Product ID : \")\n",
        "    print(sale(user_input))\n",
        "  elif user_input2 == 'N' or user_input2 == 'n':\n",
        "    break\n",
        "  else:\n",
        "    print(\"Couldn't Find what you were looking for.\")\n",
        "\n",
        "if sum(bill) >=2500:\n",
        "  dis = 20\n",
        "elif sum(bill) >=500:\n",
        "  dis = 10\n",
        "else:\n",
        "  dis = 0\n",
        "\n",
        "daily_sale(quan,items,bill)\n",
        "\n",
        "if len(bill) != 0:\n",
        "  print(\"\\n\"+\"*\"*15+\"BILL\"+\"*\"*15+\"\\n\\n\")\n",
        "  for i in range(len(bill)):\n",
        "    print(f\"{i+1}. {items[i]} -----> {bill[i]}\")\n",
        "  print(\"\\n\")\n",
        "  print(f\"Total Amount for {len(items)} item/items -----> {sum(bill)}\")\n",
        "  discount = sum(bill)*dis*0.01\n",
        "  if dis>0:\n",
        "    print(f\"Discount Given -----> {discount}\")\n",
        "  else:\n",
        "    print(f\"Discount Given -----> 0\")\n",
        "  print(f\"Amount Payable -----> {sum(bill) - discount} \\n\")\n",
        "  print(\"\\n\"+\"*\"*15+\"END\"+\"*\"*15+\"\\n\")\n",
        "else:\n",
        "  pass"
      ],
      "execution_count": null,
      "outputs": [
        {
          "output_type": "stream",
          "name": "stdout",
          "text": [
            "***************WELCOME***************\n",
            "Enter Product ID : 1023\n",
            "Enter quantity for the same : 2\n",
            "Rice\n",
            "Do you want to buy something else enter y/n : y\n",
            "Enter Product ID : 1004\n",
            "Enter quantity for the same : 3\n",
            "Chips\n",
            "Do you want to buy something else enter y/n : y\n",
            "Enter Product ID : 1008\n",
            "Enter quantity for the same : 4\n",
            "Fanta\n",
            "Do you want to buy something else enter y/n : n\n",
            "\n",
            "***************BILL***************\n",
            "\n",
            "\n",
            "1. Rice -----> 156\n",
            "2. Chips -----> 30\n",
            "3. Fanta -----> 320\n",
            "\n",
            "\n",
            "Total Amount for 3 item/items -----> 506\n",
            "Discount Given -----> 50.6\n",
            "Amount Payable -----> 455.4 \n",
            "\n",
            "\n",
            "***************END***************\n",
            "\n"
          ]
        }
      ]
    },
    {
      "cell_type": "code",
      "metadata": {
        "id": "Bhk2SLwVNNwn"
      },
      "source": [
        ""
      ],
      "execution_count": null,
      "outputs": []
    }
  ]
}